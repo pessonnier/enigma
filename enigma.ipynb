{
 "metadata": {
  "language_info": {
   "codemirror_mode": {
    "name": "ipython",
    "version": 3
   },
   "file_extension": ".py",
   "mimetype": "text/x-python",
   "name": "python",
   "nbconvert_exporter": "python",
   "pygments_lexer": "ipython3",
   "version": "3.8.6"
  },
  "orig_nbformat": 2,
  "kernelspec": {
   "name": "python3",
   "display_name": "Python 3.8.6 64-bit ('envenigma': venv)",
   "metadata": {
    "interpreter": {
     "hash": "29cd49cfe9bb129a821ada8595e7d1f15577abeaa1caa91747eacaa369e7968b"
    }
   }
  }
 },
 "nbformat": 4,
 "nbformat_minor": 2,
 "cells": [
  {
   "source": [
    "### rotors\n",
    "les différents rotors d'apres [wiki](https://en.wikipedia.org/wiki/Enigma_rotor_details)"
   ],
   "cell_type": "markdown",
   "metadata": {}
  },
  {
   "cell_type": "code",
   "execution_count": 81,
   "metadata": {},
   "outputs": [],
   "source": [
    "alpha = list('ABCDEFGHIJKLMNOPQRSTUVWXYZ')\n",
    "rot1 = list('EKMFLGDQVZNTOWYHXUSPAIBRCJ')\n",
    "rot2 = list('AJDKSIRUXBLHWTMCQGZNPYFVOE')\n",
    "rot3 = list('BDFHJLCPRTXVZNYEIWGAKMUSQO')\n",
    "rot4 = list('ESOVPZJAYQUIRHXLNFTGKDCMWB')\n",
    "rot5 = list('VZBRGITYUPSDNHLXAWMJQOFECK')\n",
    "rot6 = list('JPGVOUMFYQBENHZRDKASXLICTW')\n",
    "rot7 = list('NZJHGRCXMYSWBOUFAIVLPEKQDT')\n",
    "rot8 = list('FKQHTLXOCBJSPDZRAMEWNIUYGV')\n",
    "beta = list('LEYJVCNIXWPBQMDRTAKZGFUHOS')\n",
    "gamma = list('FSOKANUERHMBTIYCWLQPZXVGJD')\n",
    "\n",
    "rotors = {\n",
    "    'I' : (rot1, ['Q']),\n",
    "    'II' : (rot2, ['E']),\n",
    "    'III' : (rot3, ['V']),\n",
    "    'IV' : (rot4, ['J']),\n",
    "    'V' : (rot5, ['Z']),\n",
    "    'VI' : (rot6, ['Z', 'M']),\n",
    "    'VII' : (rot7, ['Z', 'M']),\n",
    "    'VIII' : (rot8, ['Z', 'M']),\n",
    "    'beta' : (beta, ['Z', 'M']),\n",
    "    'gamma' : (gamma, ['Z', 'M']) }\n",
    "refA = list('EJMZALYXVBWFCRQUONTSPIKHGD')\n",
    "refB = list('YRUHQSLDPXNGOKMIEBFZCWVJAT')\n",
    "refC = list('FVPJIAOYEDRZXWGCTKUQSBNMHL')\n",
    "refBthin = list('ENKQAUYWJICOPBLMDXZVFTHRGS')\n",
    "refCthin = list('RDOBJNTKVEHMLFCWZAXGYIPSUQ')\n",
    "etw = alpha\n",
    "etwR = list('QWERTZUIOASDFGHJKPYXCVBNML')\n"
   ]
  },
  {
   "source": [
    "### les notchs\n",
    "```\n",
    "Rotor \tPositions \tEffet\n",
    "I   \tQ \t16  la transition Q vers R provoque l'avancée du rotor suivant\n",
    "II \t    E \t4   la transition E vers F provoque l'avancée du rotor suivant\n",
    "III \tV \t21  la transition V vers W provoque l'avancée du rotor suivant\n",
    "IV \t    J \t9   la transition J vers K provoque l'avancée du rotor suivant\n",
    "V \t    Z   25  la transition Z vers A provoque l'avancée du rotor suivant\n",
    "VI, VII et VIII \t12, 25  Z et M \tune transition Z vers A, ou M vers N, provoque l'avancée du rotor suivant \n",
    "```\n",
    "\n",
    "modifier pour faire une liste de notchs par rotor\n"
   ],
   "cell_type": "markdown",
   "metadata": {}
  },
  {
   "source": [
    "### brouillon\n",
    "```python\n",
    "def rotor (rot, position):\n",
    "    return dict(zip(alpha, [rot[(i + position) % 26] for i in range(26)]))\n",
    "dict_alpha_rotor1 = rotor(rot3, 17)\n",
    "dict_alpha_rotor2 = rotor(rot1, 6)\n",
    "dict_alpha_rotor3 = rotor(rot5, 23)\n",
    "```"
   ],
   "cell_type": "markdown",
   "metadata": {}
  },
  {
   "source": [
    "configuration"
   ],
   "cell_type": "markdown",
   "metadata": {}
  },
  {
   "cell_type": "code",
   "execution_count": 82,
   "metadata": {},
   "outputs": [],
   "source": [
    "conf_cablageX = list('ADHJLX')\n",
    "conf_cablageY = list('VEOKSQ')\n",
    "cablage = dict(zip(conf_cablageX + conf_cablageY, conf_cablageY + conf_cablageX))\n",
    "\n",
    "message = list('AZERTY')\n",
    "\n",
    "choix_rotor = ['I', 'IV', 'III']\n",
    "ring_position = 'AZE'\n",
    "rotor_position = 'QSD'\n",
    "\n",
    "choix_rotor1 = rot3\n",
    "pos_rotor1 = 17\n",
    "choix_rotor2 = rot1\n",
    "pos_rotor2 = 6\n",
    "choix_rotor3 = rot5\n",
    "pos_rotor3 = 23\n",
    "\n",
    "reflecteur = refB"
   ]
  },
  {
   "cell_type": "code",
   "execution_count": 83,
   "metadata": {},
   "outputs": [],
   "source": [
    "def cable (x):\n",
    "    try:\n",
    "        return cablage[x]\n",
    "    except KeyError:\n",
    "        return x"
   ]
  },
  {
   "cell_type": "code",
   "execution_count": 93,
   "metadata": {},
   "outputs": [],
   "source": [
    "def enigma (message, choix_rotor = ['I', 'II', 'III'], ring_position = 'AAA', rotor_position = 'AAA', reflecteur = refA):\n",
    "    inc = 0\n",
    "    pos_rotors = [alpha.index(x) + alpha.index(y) for (x,y) in zip(ring_position, rotor_position)]\n",
    "    print(pos_rotors)\n",
    "    (rotor1, notch1) = rotors[choix_rotor[0]]\n",
    "    (rotor3, notch2) = rotors[choix_rotor[1]]\n",
    "    (rotor3, notch3) = rotors[choix_rotor[2]]\n",
    "\n",
    "    for l0 in message:\n",
    "        l1 = cable(l0)\n",
    "        \n",
    "        l2 = rotor1[(alpha.index(l1) + pos_rotors[0]) % 26]\n",
    "        l3 = rotor2[(alpha.index(l2) + pos_rotors[1]) % 26]\n",
    "        l4 = rotor3[(alpha.index(l3) + pos_rotors[2]) % 26]\n",
    "\n",
    "        l5 = reflecteur[alpha.index(l4)]\n",
    "        \n",
    "        l6 = alpha[(rotor3.index(l5) - pos_rotors[2]) % 26]\n",
    "        l7 = alpha[(rotor2.index(l6) - pos_rotors[1]) % 26]\n",
    "        l8 = alpha[(rotor1.index(l7) - pos_rotors[0]) % 26]\n",
    "        \n",
    "        l9 = cable(l8)\n",
    "\n",
    "        pos_rotors[0] = pos_rotors[0] + 1 % 26\n",
    "        inc += 1\n",
    "        if alpha[pos_rotors[0]] in notch1:\n",
    "            pos_rotors[1] = pos_rotors[1] + 1 % 26\n",
    "            if alpha[pos_rotors[0]] in notch2:\n",
    "                pos_rotors[2] = pos_rotors[2] + 1 % 26\n",
    "        \n",
    "        print (f'{l0} -> {l1} -> {l2} -> {l3} -> {l4} -> {l5} -> {l6} -> {l7} -> {l8} -> {l9}')\n",
    "\n",
    "enigma('A')"
   ]
  },
  {
   "cell_type": "code",
   "execution_count": 94,
   "metadata": {},
   "outputs": [
    {
     "output_type": "stream",
     "name": "stdout",
     "text": [
      "[0, 0, 0]\n"
     ]
    },
    {
     "output_type": "error",
     "ename": "KeyError",
     "evalue": "8",
     "traceback": [
      "\u001b[0;31m---------------------------------------------------------------------------\u001b[0m",
      "\u001b[0;31mKeyError\u001b[0m                                  Traceback (most recent call last)",
      "\u001b[0;32m<ipython-input-94-b7a81b54defc>\u001b[0m in \u001b[0;36m<module>\u001b[0;34m\u001b[0m\n\u001b[1;32m      1\u001b[0m \u001b[0mbreakpoint\u001b[0m\u001b[0;34m(\u001b[0m\u001b[0;34m)\u001b[0m\u001b[0;34m\u001b[0m\u001b[0;34m\u001b[0m\u001b[0m\n\u001b[0;32m----> 2\u001b[0;31m \u001b[0menigma\u001b[0m\u001b[0;34m(\u001b[0m\u001b[0;34m'A'\u001b[0m\u001b[0;34m)\u001b[0m\u001b[0;34m\u001b[0m\u001b[0;34m\u001b[0m\u001b[0m\n\u001b[0m",
      "\u001b[0;32m<ipython-input-93-d4383aa2472b>\u001b[0m in \u001b[0;36menigma\u001b[0;34m(message, choix_rotor, ring_position, rotor_position, reflecteur)\u001b[0m\n\u001b[1;32m     11\u001b[0m \u001b[0;34m\u001b[0m\u001b[0m\n\u001b[1;32m     12\u001b[0m         \u001b[0ml2\u001b[0m \u001b[0;34m=\u001b[0m \u001b[0mrotor1\u001b[0m\u001b[0;34m[\u001b[0m\u001b[0;34m(\u001b[0m\u001b[0malpha\u001b[0m\u001b[0;34m.\u001b[0m\u001b[0mindex\u001b[0m\u001b[0;34m(\u001b[0m\u001b[0ml1\u001b[0m\u001b[0;34m)\u001b[0m \u001b[0;34m+\u001b[0m \u001b[0mpos_rotors\u001b[0m\u001b[0;34m[\u001b[0m\u001b[0;36m0\u001b[0m\u001b[0;34m]\u001b[0m\u001b[0;34m)\u001b[0m \u001b[0;34m%\u001b[0m \u001b[0;36m26\u001b[0m\u001b[0;34m]\u001b[0m\u001b[0;34m\u001b[0m\u001b[0;34m\u001b[0m\u001b[0m\n\u001b[0;32m---> 13\u001b[0;31m         \u001b[0ml3\u001b[0m \u001b[0;34m=\u001b[0m \u001b[0mrotor2\u001b[0m\u001b[0;34m[\u001b[0m\u001b[0;34m(\u001b[0m\u001b[0malpha\u001b[0m\u001b[0;34m.\u001b[0m\u001b[0mindex\u001b[0m\u001b[0;34m(\u001b[0m\u001b[0ml2\u001b[0m\u001b[0;34m)\u001b[0m \u001b[0;34m+\u001b[0m \u001b[0mpos_rotors\u001b[0m\u001b[0;34m[\u001b[0m\u001b[0;36m1\u001b[0m\u001b[0;34m]\u001b[0m\u001b[0;34m)\u001b[0m \u001b[0;34m%\u001b[0m \u001b[0;36m26\u001b[0m\u001b[0;34m]\u001b[0m\u001b[0;34m\u001b[0m\u001b[0;34m\u001b[0m\u001b[0m\n\u001b[0m\u001b[1;32m     14\u001b[0m         \u001b[0ml4\u001b[0m \u001b[0;34m=\u001b[0m \u001b[0mrotor3\u001b[0m\u001b[0;34m[\u001b[0m\u001b[0;34m(\u001b[0m\u001b[0malpha\u001b[0m\u001b[0;34m.\u001b[0m\u001b[0mindex\u001b[0m\u001b[0;34m(\u001b[0m\u001b[0ml3\u001b[0m\u001b[0;34m)\u001b[0m \u001b[0;34m+\u001b[0m \u001b[0mpos_rotors\u001b[0m\u001b[0;34m[\u001b[0m\u001b[0;36m2\u001b[0m\u001b[0;34m]\u001b[0m\u001b[0;34m)\u001b[0m \u001b[0;34m%\u001b[0m \u001b[0;36m26\u001b[0m\u001b[0;34m]\u001b[0m\u001b[0;34m\u001b[0m\u001b[0;34m\u001b[0m\u001b[0m\n\u001b[1;32m     15\u001b[0m \u001b[0;34m\u001b[0m\u001b[0m\n",
      "\u001b[0;31mKeyError\u001b[0m: 8"
     ]
    }
   ],
   "source": [
    "enigma('A')"
   ]
  },
  {
   "cell_type": "code",
   "execution_count": 90,
   "metadata": {},
   "outputs": [
    {
     "output_type": "execute_result",
     "data": {
      "text/plain": [
       "['Q']"
      ]
     },
     "metadata": {},
     "execution_count": 90
    }
   ],
   "source": [
    "(x,y) = rotors['I']\n",
    "y"
   ]
  },
  {
   "cell_type": "code",
   "execution_count": null,
   "metadata": {},
   "outputs": [],
   "source": []
  }
 ]
}